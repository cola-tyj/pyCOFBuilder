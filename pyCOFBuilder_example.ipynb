{
  "nbformat": 4,
  "nbformat_minor": 0,
  "metadata": {
    "colab": {
      "provenance": [],
      "authorship_tag": "ABX9TyNRXBHjp8K7vU3Rp6QGwu1z",
      "include_colab_link": true
    },
    "kernelspec": {
      "name": "python3",
      "display_name": "Python 3"
    },
    "language_info": {
      "name": "python"
    }
  },
  "cells": [
    {
      "cell_type": "markdown",
      "metadata": {
        "id": "view-in-github",
        "colab_type": "text"
      },
      "source": [
        "<a href=\"https://colab.research.google.com/github/lipelopesoliveira/pyCOFBuilder/blob/master/pyCOFBuilder_example.ipynb\" target=\"_parent\"><img src=\"https://colab.research.google.com/assets/colab-badge.svg\" alt=\"Open In Colab\"/></a>"
      ]
    },
    {
      "cell_type": "code",
      "execution_count": 1,
      "metadata": {
        "colab": {
          "base_uri": "https://localhost:8080/"
        },
        "id": "yHvLB7pRWR6e",
        "outputId": "cfd95787-92d4-47e8-d8a4-1d13674a096e"
      },
      "outputs": [
        {
          "output_type": "stream",
          "name": "stdout",
          "text": [
            "Requirement already satisfied: pycofbuilder==0.0.8.5 in /usr/local/lib/python3.10/dist-packages (0.0.8.5)\n"
          ]
        }
      ],
      "source": [
        "# install the pycofbuilder package using pip\n",
        "! pip install pycofbuilder==0.0.8.5\n",
        "\n",
        "import os\n",
        "import pycofbuilder as pcb"
      ]
    },
    {
      "cell_type": "code",
      "source": [
        "cof = pcb.Framework('T3_BENZ_NH2-L2_BENZ_CHO_OH-HCB_A-AA')"
      ],
      "metadata": {
        "colab": {
          "base_uri": "https://localhost:8080/"
        },
        "id": "Gq62kz4eW1nn",
        "outputId": "372c7f55-95a9-483e-fcf9-5a37f74aab25"
      },
      "execution_count": 3,
      "outputs": [
        {
          "output_type": "stream",
          "name": "stderr",
          "text": [
            "T3_BENZ_NH2_H-L2_BENZ_CHO_OH_H-HCB_A-AA                       hexagonal   P    P6/m # 175    12 sym. op.\n"
          ]
        }
      ]
    },
    {
      "cell_type": "code",
      "source": [
        "cof.save(fmt='cif')"
      ],
      "metadata": {
        "id": "kcPy--iOW9Y0"
      },
      "execution_count": 4,
      "outputs": []
    }
  ]
}